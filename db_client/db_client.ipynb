{
 "cells": [
  {
   "cell_type": "code",
   "execution_count": 1,
   "metadata": {},
   "outputs": [
    {
     "name": "stdout",
     "output_type": "stream",
     "text": [
      "Requirement already satisfied: mysql-connector-python in c:\\users\\carmi\\appdata\\local\\packages\\pythonsoftwarefoundation.python.3.11_qbz5n2kfra8p0\\localcache\\local-packages\\python311\\site-packages (8.1.0)\n",
      "Requirement already satisfied: protobuf<=4.21.12,>=4.21.1 in c:\\users\\carmi\\appdata\\local\\packages\\pythonsoftwarefoundation.python.3.11_qbz5n2kfra8p0\\localcache\\local-packages\\python311\\site-packages (from mysql-connector-python) (4.21.12)\n"
     ]
    }
   ],
   "source": [
    "# Installing mysql-connector-python\n",
    "%pip install mysql-connector-python"
   ]
  },
  {
   "cell_type": "code",
   "execution_count": 3,
   "metadata": {},
   "outputs": [],
   "source": [
    "# Importing the connector\n",
    "import mysql.connector as connector\n",
    "from mysql.connector import Error"
   ]
  },
  {
   "cell_type": "code",
   "execution_count": 8,
   "metadata": {},
   "outputs": [
    {
     "name": "stdout",
     "output_type": "stream",
     "text": [
      "Connection pool successfully created\n",
      "Connection successfully obtained from the pool client_pool\n"
     ]
    }
   ],
   "source": [
    "# Establishing a connection pool and a connection from it\n",
    "dbconfig = {\n",
    "    \"user\" : \"dba_little_lemon\",\n",
    "    \"password\" : \"Qu33nsland?_!\",\n",
    "    \"database\" : \"little_lemon_db\"\n",
    "}\n",
    "try:\n",
    "    pool = connector.pooling.MySQLConnectionPool(pool_name = \"client_pool\", pool_size = 5, **dbconfig)\n",
    "    print(\"Connection pool successfully created\")\n",
    "    conn = pool.get_connection() #getting a connection from the pool\n",
    "    print(\"Connection successfully obtained from the pool {}\".format(pool.pool_name))\n",
    "except Error as er:\n",
    "    print(\"Error code: {} - Error message: {}\".format(er.errno,er.msg))"
   ]
  },
  {
   "cell_type": "code",
   "execution_count": 9,
   "metadata": {},
   "outputs": [],
   "source": [
    "# Instantiating a cursor\n",
    "cursor = conn.cursor()"
   ]
  },
  {
   "cell_type": "code",
   "execution_count": 10,
   "metadata": {},
   "outputs": [
    {
     "name": "stdout",
     "output_type": "stream",
     "text": [
      "('Tables_in_little_lemon_db',)\n",
      "('bookings',)\n",
      "('customers',)\n",
      "('employees',)\n",
      "('items',)\n",
      "('menus',)\n",
      "('orderdeliverystatus',)\n",
      "('orders',)\n",
      "('ordersview',)\n"
     ]
    }
   ],
   "source": [
    "# Showing all the tables in the database\n",
    "query = \"SHOW TABLES\"\n",
    "cursor.execute(query)\n",
    "results = cursor.fetchall()\n",
    "cols = cursor.column_names\n",
    "print(cols)\n",
    "for result in results:\n",
    "    print(result)"
   ]
  },
  {
   "cell_type": "code",
   "execution_count": 11,
   "metadata": {},
   "outputs": [
    {
     "name": "stdout",
     "output_type": "stream",
     "text": [
      "('Customer Full Name', 'CustomerPhoneNo', 'CustomerEmail', 'Total Cost')\n",
      "('Gennaro Saltafossi', 562458743, 'gastone@gmail.com', Decimal('180'))\n"
     ]
    }
   ],
   "source": [
    "# Retrieving customers details\n",
    "query = '''SELECT CONCAT(c.CustomerFirstName, \" \", c.CustomerLastName) AS \"Customer Full Name\",\n",
    "                  c.CustomerPhoneNo, c.CustomerEmail, o.OrderTotalCost AS \"Total Cost\"\n",
    "           FROM customers c INNER JOIN bookings b USING(CustomerID)\n",
    "                INNER JOIN orders o USING(BookingID)\n",
    "           WHERE o.OrderTotalCost > 60'''\n",
    "cursor.execute(query)\n",
    "results = cursor.fetchall()\n",
    "cols = cursor.column_names\n",
    "print(cols)\n",
    "for result in results:\n",
    "    print(result)"
   ]
  },
  {
   "cell_type": "code",
   "execution_count": 12,
   "metadata": {},
   "outputs": [
    {
     "name": "stdout",
     "output_type": "stream",
     "text": [
      "Returning the connection to the pool\n"
     ]
    }
   ],
   "source": [
    "# Returning the connection to the pool\n",
    "print(\"Returning the connection to the pool\")\n",
    "conn.close()"
   ]
  }
 ],
 "metadata": {
  "kernelspec": {
   "display_name": "Python 3",
   "language": "python",
   "name": "python3"
  },
  "language_info": {
   "codemirror_mode": {
    "name": "ipython",
    "version": 3
   },
   "file_extension": ".py",
   "mimetype": "text/x-python",
   "name": "python",
   "nbconvert_exporter": "python",
   "pygments_lexer": "ipython3",
   "version": "3.11.4"
  },
  "orig_nbformat": 4
 },
 "nbformat": 4,
 "nbformat_minor": 2
}
